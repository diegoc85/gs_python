{
 "cells": [
  {
   "cell_type": "code",
   "execution_count": 3,
   "metadata": {},
   "outputs": [
    {
     "name": "stdout",
     "output_type": "stream",
     "text": [
      "| PoseiDrone | Área Restrita\n",
      "E-mail ou senha incorreto! Tente novamente\n",
      "E-mail ou senha incorreto! Tente novamente\n"
     ]
    }
   ],
   "source": [
    "print('| PoseiDrone | Área Restrita')\n",
    " \n",
    "i = 0  \n",
    "while True:\n",
    "    email = input('Digite seu e-mail:')\n",
    "    senha = input('Digite sua senha:')\n",
    "\n",
    "    if email == 'diegoc85@me.com' and senha == 'posei123':\n",
    "        print('Login efetuado com sucesso!')\n",
    "        break\n",
    "    else:\n",
    "        print('E-mail ou senha incorreto! Tente novamente')\n",
    "    i += 1\n",
    "       \n",
    "    \n",
    "    \n",
    "\n",
    "    \n",
    "\n",
    "\n",
    "\n",
    "\n"
   ]
  }
 ],
 "metadata": {
  "kernelspec": {
   "display_name": "Python 3",
   "language": "python",
   "name": "python3"
  },
  "language_info": {
   "codemirror_mode": {
    "name": "ipython",
    "version": 3
   },
   "file_extension": ".py",
   "mimetype": "text/x-python",
   "name": "python",
   "nbconvert_exporter": "python",
   "pygments_lexer": "ipython3",
   "version": "3.12.3"
  }
 },
 "nbformat": 4,
 "nbformat_minor": 2
}
